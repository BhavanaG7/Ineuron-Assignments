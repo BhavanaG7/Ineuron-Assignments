{
 "cells": [
  {
   "cell_type": "markdown",
   "metadata": {},
   "source": [
    "1.1\n",
    "Write a Python Program to implement your own myreduce() function which works exactly like\n",
    "Python's built-in function reduce()"
   ]
  },
  {
   "cell_type": "code",
   "execution_count": 12,
   "metadata": {},
   "outputs": [
    {
     "name": "stdout",
     "output_type": "stream",
     "text": [
      "sum of numbers obtained from myreduce function is: 10\n"
     ]
    }
   ],
   "source": [
    "#reduce(fuction,sequence of number)\n",
    "\n",
    "#function\n",
    "def func_sum(x1,x2):\n",
    "    return x1+x2\n",
    "\n",
    "def myreduce(func_sum,l):\n",
    "    first=l[0]\n",
    "    for i in l[1:]:\n",
    "        first=func_sum(first,i)\n",
    "    return first\n",
    "\n",
    "#reduce(fuction,sequence of number)\n",
    "v=myreduce(func_sum,[1,2,3,4])\n",
    "\n",
    "#sequence of operation (((1 + 2) + 3) + 4) => 10\n",
    "print(\"sum of numbers obtained from myreduce function is:\",v)"
   ]
  },
  {
   "cell_type": "markdown",
   "metadata": {},
   "source": [
    "1.2\n",
    "Write a Python program to implement your own myfilter() function which works exactly like\n",
    "Python's built-in function filter()"
   ]
  },
  {
   "cell_type": "code",
   "execution_count": 11,
   "metadata": {},
   "outputs": [
    {
     "name": "stdout",
     "output_type": "stream",
     "text": [
      "even numbers returned from myfilter function is: [2, 4, 6, 98, 76]\n"
     ]
    }
   ],
   "source": [
    "#The filter() function takes a function and a sequence as arguments\n",
    "# yielding the items in sequence for which function returns True\n",
    "#If None is passed instead of a function, all the items of the sequence which evaluates to False are removed.\n",
    "\n",
    "def func_even(num):\n",
    "    if(num%2==0):\n",
    "        return True\n",
    "    else:\n",
    "        return False\n",
    "\n",
    "def myfilter(func_even,lst):\n",
    "    result=[]\n",
    "    \n",
    "    for i in lst:\n",
    "        if func_even(i):\n",
    "            result.append(i)\n",
    "    return result\n",
    "\n",
    "c=myfilter(func_even,[2,3,4,5,6,7,9,77,87,98,76,77])\n",
    "print(\"even numbers returned from myfilter function is:\",c)\n"
   ]
  },
  {
   "cell_type": "markdown",
   "metadata": {},
   "source": [
    "Implement List comprehensions to produce the following lists.\n",
    "Write List comprehensions to produce the following Lists\n",
    "['A', 'C', 'A', 'D', 'G', 'I', ’L’, ‘ D’]"
   ]
  },
  {
   "cell_type": "code",
   "execution_count": 22,
   "metadata": {},
   "outputs": [
    {
     "name": "stdout",
     "output_type": "stream",
     "text": [
      "['A', 'C', 'A', 'D', 'G', 'I', 'L', 'D']\n"
     ]
    }
   ],
   "source": [
    "a1='ACADGILD'\n",
    "\n",
    "a3=[a2 for a2 in a1]\n",
    "print(a3)\n",
    "    "
   ]
  },
  {
   "cell_type": "markdown",
   "metadata": {},
   "source": [
    "Write List comprehensions to produce the following Lists\n",
    "['x', 'xx', 'xxx', 'xxxx', 'y', 'yy', 'yyy', 'yyyy', 'z', 'zz', 'zzz', 'zzzz']"
   ]
  },
  {
   "cell_type": "code",
   "execution_count": 25,
   "metadata": {},
   "outputs": [
    {
     "name": "stdout",
     "output_type": "stream",
     "text": [
      "['x', 'xx', 'xxx', 'xxxx', 'y', 'yy', 'yyy', 'yyyy', 'z', 'zz', 'zzz', 'zzzz']\n"
     ]
    }
   ],
   "source": [
    "b1=\"x\",\"y\",\"z\"\n",
    "\n",
    "b3=[b2*no for b2 in b1 for no in range(1,5)]\n",
    "print(b3)"
   ]
  },
  {
   "cell_type": "markdown",
   "metadata": {},
   "source": [
    "Write List comprehensions to produce the following Lists\n",
    "['x', 'y', 'z', 'xx', 'yy', 'zz', 'xx', 'yy', 'zz', 'xxxx', 'yyyy', 'zzzz']"
   ]
  },
  {
   "cell_type": "code",
   "execution_count": 29,
   "metadata": {},
   "outputs": [
    {
     "name": "stdout",
     "output_type": "stream",
     "text": [
      "['x', 'y', 'z', 'xx', 'yy', 'zz', 'xxx', 'yyy', 'zzz', 'xxxx', 'yyyy', 'zzzz']\n"
     ]
    }
   ],
   "source": [
    "c1=\"x\",\"y\",\"z\"\n",
    "\n",
    "c3=[c2*numb for numb in range(1,5) for c2 in c1]\n",
    "\n",
    "print(c3)"
   ]
  },
  {
   "cell_type": "markdown",
   "metadata": {},
   "source": [
    "Write List comprehensions to produce the following Lists\n",
    "[[2], [3], [4], [3], [4], [5], [4], [5], [6]]"
   ]
  },
  {
   "cell_type": "code",
   "execution_count": 34,
   "metadata": {},
   "outputs": [
    {
     "name": "stdout",
     "output_type": "stream",
     "text": [
      "[[2], [3], [4], [3], [4], [5], [4], [5], [6]]\n"
     ]
    }
   ],
   "source": [
    "d1=[2,3,4]\n",
    "\n",
    "d3=[[d2+numbr] for d2 in d1 for numbr in range(0,3)]\n",
    "print(d3)"
   ]
  },
  {
   "cell_type": "markdown",
   "metadata": {},
   "source": [
    "Write List comprehensions to produce the following Lists\n",
    "[[2, 3, 4, 5], [3, 4, 5, 6], [4, 5, 6, 7], [5, 6, 7, 8]]"
   ]
  },
  {
   "cell_type": "code",
   "execution_count": 39,
   "metadata": {},
   "outputs": [
    {
     "name": "stdout",
     "output_type": "stream",
     "text": [
      "[[2, 3, 4, 5], [3, 4, 5, 6], [4, 5, 6, 7], [5, 6, 7, 8]]\n"
     ]
    }
   ],
   "source": [
    "e1=[2,3,4,5]\n",
    "\n",
    "e3=[[e2+enum for e2 in e1] for enum in range(0,4)]\n",
    "print(e3)"
   ]
  },
  {
   "cell_type": "markdown",
   "metadata": {},
   "source": [
    "Write List comprehensions to produce the following Lists\n",
    "[(1, 1), (2, 1), (3, 1), (1, 2), (2, 2), (3, 2), (1, 3), (2, 3), (3, 3)]"
   ]
  },
  {
   "cell_type": "code",
   "execution_count": 41,
   "metadata": {},
   "outputs": [
    {
     "name": "stdout",
     "output_type": "stream",
     "text": [
      "[(1, 1), (2, 1), (3, 1), (1, 2), (2, 2), (3, 2), (1, 3), (2, 3), (3, 3)]\n"
     ]
    }
   ],
   "source": [
    "f1=[1,2,3]\n",
    "result = [ (b,a) for a in f1 for b in f1]\n",
    "print(result)"
   ]
  },
  {
   "cell_type": "markdown",
   "metadata": {},
   "source": [
    "3.\n",
    "Implement a function longestWord() that takes a list of words and returns the longest one."
   ]
  },
  {
   "cell_type": "code",
   "execution_count": 43,
   "metadata": {},
   "outputs": [
    {
     "name": "stdout",
     "output_type": "stream",
     "text": [
      "hello\n"
     ]
    }
   ],
   "source": [
    "def find_longest_word(words_list):\n",
    "    word= []\n",
    "    for n in words_list:\n",
    "        word.append((len(n), n))\n",
    "    word.sort()\n",
    "    return word[-1][1]\n",
    "\n",
    "print(find_longest_word(['he','hell','hello']))"
   ]
  },
  {
   "cell_type": "markdown",
   "metadata": {},
   "source": [
    "Task 2\n",
    "1.1\n",
    "Write a Python Program(with class concepts) to find the area of the triangle using the below\n",
    "formula.\n",
    "area = (s*(s-a)*(s-b)*(s-c)) ** 0.5\n",
    "Function to take the length of the sides of triangle from user should be defined in the parent\n",
    "class and function to calculate the area should be defined in subclass."
   ]
  },
  {
   "cell_type": "code",
   "execution_count": 93,
   "metadata": {},
   "outputs": [
    {
     "name": "stdout",
     "output_type": "stream",
     "text": [
      "Child class\n",
      "sides of triange are [2,3,4]\n",
      "s value calculated is :  4.5\n",
      "Area of triangle = 2.9047375096555625\n"
     ]
    }
   ],
   "source": [
    "class Triangle:\n",
    " def __init__(self, a, b, c):\n",
    "  self.a = a\n",
    "  self.b = b\n",
    "  self.c = c\n",
    "  print (\"sides of triange are [\" +  str(a) + \",\" + str(b) + \",\" + str(c) + \"]\")\n",
    "\n",
    "class Triangle_Utilities(Triangle):\n",
    " \n",
    " def __init__(self, a, b, c):\n",
    "  print (\"Child class\" )\n",
    "  super(Triangle_Utilities, self).__init__(a, b, c)\n",
    "\n",
    " def get_area(self):\n",
    "  s = (self.a + self.b + self.c)/2\n",
    "  print (\"s value calculated is : \",str(s))\n",
    "  return (s*(s-self.a)*(s-self.b)*(s-self.c))**0.5\n",
    "\n",
    "m= Triangle_Utilities(2,3,4)\n",
    "print (\"Area of triangle = \" + str(m.get_area()) )"
   ]
  },
  {
   "cell_type": "markdown",
   "metadata": {},
   "source": [
    "1.2\n",
    "Write a function filter_long_words() that takes a list of words and an integer n and returns the list\n",
    "of words that are longer than n."
   ]
  },
  {
   "cell_type": "code",
   "execution_count": 102,
   "metadata": {},
   "outputs": [
    {
     "name": "stdout",
     "output_type": "stream",
     "text": [
      "List of Words : ['cde', 'fghi', 'jklm', 'opqrst']\n"
     ]
    }
   ],
   "source": [
    "class Demo:\n",
    " def __init__(f, wordlist):\n",
    "  f.wordlist = wordlist\n",
    "\n",
    " def filter_long_words(f, n):\n",
    "  return list(filter(lambda x:len(x) > n, f.wordlist))\n",
    "\n",
    "o= Demo([\"ab\",\"cde\",\"fghi\",\"jklm\",\"opqrst\"])\n",
    "print (\"List of Words : \" + str(o.filter_long_words(2)) ) "
   ]
  },
  {
   "cell_type": "markdown",
   "metadata": {},
   "source": [
    "2.1\n",
    "Write a Python program using function concept that maps list of words into a list of integers\n",
    "representing the lengths of the corresponding words .\n",
    "Hint: If a list [ ab,cde,erty] is passed on to the python function output should come as [2,3,4]\n",
    "Here 2,3 and 4 are the lengths of the words in the list."
   ]
  },
  {
   "cell_type": "code",
   "execution_count": 76,
   "metadata": {},
   "outputs": [
    {
     "name": "stdout",
     "output_type": "stream",
     "text": [
      "length of words:  [2, 3, 4]\n"
     ]
    }
   ],
   "source": [
    "lst1=[\"ab\",\"cde\",\"erty\"]\n",
    "def wrd_lgth(lst1):\n",
    "    return list(map(lambda x:len(x),lst1))\n",
    "\n",
    "print(\"length of words: \",wrd_lgth(lst1))"
   ]
  },
  {
   "cell_type": "markdown",
   "metadata": {},
   "source": [
    "2.2\n",
    "Write a Python function which takes a character (i.e. a string of length 1) and returns True if it is\n",
    "a vowel, False otherwise."
   ]
  },
  {
   "cell_type": "code",
   "execution_count": 74,
   "metadata": {},
   "outputs": [
    {
     "name": "stdout",
     "output_type": "stream",
     "text": [
      "enter the character to check : G\n"
     ]
    },
    {
     "data": {
      "text/plain": [
       "False"
      ]
     },
     "execution_count": 74,
     "metadata": {},
     "output_type": "execute_result"
    }
   ],
   "source": [
    "def vowel_check(value):\n",
    "    if(value==\"a\" or value==\"e\" or value==\"i\" or value==\"o\" or value==\"u\" or value==\"A\" or value==\"E\" or value==\"I\" or value==\"O\" or value==\"U\"):\n",
    "        return True\n",
    "    else:\n",
    "        return False\n",
    "    \n",
    "value=input(\"enter the character to check : \")\n",
    "vowel_check(value)"
   ]
  }
 ],
 "metadata": {
  "kernelspec": {
   "display_name": "Python 3",
   "language": "python",
   "name": "python3"
  },
  "language_info": {
   "codemirror_mode": {
    "name": "ipython",
    "version": 3
   },
   "file_extension": ".py",
   "mimetype": "text/x-python",
   "name": "python",
   "nbconvert_exporter": "python",
   "pygments_lexer": "ipython3",
   "version": "3.7.3"
  }
 },
 "nbformat": 4,
 "nbformat_minor": 2
}
